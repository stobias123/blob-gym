{
 "cells": [
  {
   "cell_type": "code",
   "execution_count": 36,
   "metadata": {},
   "outputs": [],
   "source": [
    "tf_agents_image = 'gcr.io/stobias-dev/blob-gym:latest'\n",
    "model_name = \"blob_bot\"\n",
    "storage_class='basic'"
   ]
  },
  {
   "cell_type": "code",
   "execution_count": 90,
   "metadata": {},
   "outputs": [],
   "source": [
    "import json\n",
    "from string import Template\n",
    "\n",
    "#import kfp\n",
    "from kfp import components\n",
    "from kfp.components import func_to_container_op\n",
    "import kfp.dsl as dsl\n",
    "import kfp.components as comp\n",
    "from kubernetes import client as k8s_client"
   ]
  },
  {
   "cell_type": "code",
   "execution_count": 111,
   "metadata": {},
   "outputs": [],
   "source": [
    "def create_agent_data_vol(model_name,storage_class):\n",
    "    return dsl.VolumeOp(\n",
    "        name=str(model_name),\n",
    "        resource_name=str(model_name),\n",
    "        size='10Gi',\n",
    "        modes=['ReadWriteMany'],\n",
    "        storage_class=storage_class\n",
    "    )\n",
    "\n",
    "def run_tf_agent(vol,train_steps):\n",
    "    \"\"\"Creates a training run (Creates a data vol along the way.)\"\"\"\n",
    "    return dsl.ContainerOp(\n",
    "        name='run_agent',\n",
    "        image=tf_agents_image,\n",
    "        command=['python',\n",
    "                 '/app/train.py',\n",
    "                '-root_dir=/data/gym/blob2d-v1/',\n",
    "                f\"--num_iterations={train_steps}\",\n",
    "                '--alsologtostderr'],\n",
    "        pvolumes={\"/data\": dsl.PipelineVolume(pvc=\"tf-executor-build-pvc\")},\n",
    "        file_outputs={'output': '/tmp/mlpipeline-ui-metadata.json'}\n",
    "    )"
   ]
  },
  {
   "cell_type": "code",
   "execution_count": 112,
   "metadata": {},
   "outputs": [],
   "source": [
    "def blob2d_pipeline(name=model_name,storage_class=storage_class,steps=1000):\n",
    "    agent = run_tf_agent(\"blob-env\",steps)"
   ]
  },
  {
   "cell_type": "code",
   "execution_count": 113,
   "metadata": {},
   "outputs": [
    {
     "data": {
      "text/html": [
       "Experiment link <a href=\"/pipeline/#/experiments/details/155da2f0-9e8b-4800-8d6c-029bdac57381\" target=\"_blank\" >here</a>"
      ],
      "text/plain": [
       "<IPython.core.display.HTML object>"
      ]
     },
     "metadata": {},
     "output_type": "display_data"
    },
    {
     "data": {
      "text/html": [
       "Run link <a href=\"/pipeline/#/runs/details/11c15776-bbe0-4f0b-901d-b1567cd60b2c\" target=\"_blank\" >here</a>"
      ],
      "text/plain": [
       "<IPython.core.display.HTML object>"
      ]
     },
     "metadata": {},
     "output_type": "display_data"
    },
    {
     "data": {
      "text/plain": [
       "RunPipelineResult(run_id=11c15776-bbe0-4f0b-901d-b1567cd60b2c)"
      ]
     },
     "execution_count": 113,
     "metadata": {},
     "output_type": "execute_result"
    }
   ],
   "source": [
    "#import kfp\n",
    "kfp_endpoint=None\n",
    "\n",
    "# Submit a pipeline run\n",
    "from kfp_tekton import TektonClient\n",
    "#blob_experiment = TektonClient(host=None).create_experiment(name='blob_experiment', \n",
    "#                                                   description='Pipeline for reinforcement learning')\n",
    "\n",
    "TektonClient(host=None).create_run_from_pipeline_func(blob2d_pipeline,\n",
    "                                                      experiment_name='blob_experiment',\n",
    "                                                      arguments={'steps': 10})"
   ]
  },
  {
   "cell_type": "code",
   "execution_count": null,
   "metadata": {},
   "outputs": [],
   "source": [
    "#python train.py --root_dir=$PWD/tmp/dqn/gym/blob2d-v1/ --alsologtostderr"
   ]
  }
 ],
 "metadata": {
  "kernelspec": {
   "display_name": "Python 3",
   "language": "python",
   "name": "python3"
  },
  "language_info": {
   "codemirror_mode": {
    "name": "ipython",
    "version": 3
   },
   "file_extension": ".py",
   "mimetype": "text/x-python",
   "name": "python",
   "nbconvert_exporter": "python",
   "pygments_lexer": "ipython3",
   "version": "3.6.9"
  }
 },
 "nbformat": 4,
 "nbformat_minor": 4
}
